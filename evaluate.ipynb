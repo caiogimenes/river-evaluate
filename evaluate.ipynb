{
 "cells": [
  {
   "cell_type": "code",
   "id": "initial_id",
   "metadata": {
    "collapsed": true,
    "ExecuteTime": {
     "end_time": "2025-08-02T15:49:01.956499Z",
     "start_time": "2025-08-02T15:48:59.978806Z"
    }
   },
   "source": [
    "import typing\n",
    "\n",
    "from river.tree import HoeffdingTreeRegressor, splitter\n",
    "from river.datasets.synth import Friedman, FriedmanDrift, Hyperplane, ConceptDriftStream, Agrawal\n",
    "from river.datasets import Bikes, Elec2\n",
    "from river.evaluate import progressive_val_score\n",
    "from river.metrics import RMSE\n",
    "\n",
    "import pandas as pd"
   ],
   "outputs": [],
   "execution_count": 1
  },
  {
   "metadata": {
    "ExecuteTime": {
     "end_time": "2025-08-02T15:49:02.241231Z",
     "start_time": "2025-08-02T15:49:02.234095Z"
    }
   },
   "cell_type": "code",
   "source": [
    "class EvaluateModels:\n",
    "    def __init__(self, models: typing.Dict[str, typing.Any], metric = RMSE(), instances=100000):\n",
    "        self.models = models\n",
    "        self.metric = metric\n",
    "        self.instances = instances\n",
    "\n",
    "    @staticmethod\n",
    "    def get_dataset():\n",
    "        return ConceptDriftStream(\n",
    "            stream=Hyperplane(n_features=30, n_drift_features=10),\n",
    "            drift_stream=Hyperplane(n_features=30, n_drift_features=10, mag_change=0.5),\n",
    "            position=50000,\n",
    "            width=10000\n",
    "        )\n",
    "\n",
    "    def run_experiments(self):\n",
    "        for model_name, model in self.models.items():\n",
    "            print(\"Evaluating models - {}\".format(model_name))\n",
    "            progressive_val_score(\n",
    "                dataset=self.get_dataset().take(self.instances),\n",
    "                model=model,\n",
    "                metric=RMSE(),\n",
    "                print_every=20000,\n",
    "                show_time=True,\n",
    "                show_memory=True,\n",
    "            )\n",
    "\n",
    "    def summarize(self):\n",
    "        summaries = {model_name: model.summary for model_name, model in self.models.items()}\n",
    "        return pd.DataFrame(index=summaries.keys(), data=summaries.values())"
   ],
   "id": "b8a964e6162bec3c",
   "outputs": [],
   "execution_count": 2
  },
  {
   "metadata": {
    "ExecuteTime": {
     "end_time": "2025-08-02T15:49:02.255537Z",
     "start_time": "2025-08-02T15:49:02.249477Z"
    }
   },
   "cell_type": "code",
   "source": [
    "models = {\n",
    "    'vanilla': HoeffdingTreeRegressor(),\n",
    "    'qo-splitter-binary': HoeffdingTreeRegressor(splitter=splitter.QOSplitter(allow_multiway_splits=False)),\n",
    "    'qo-splitter-multi': HoeffdingTreeRegressor(splitter=splitter.QOSplitter(allow_multiway_splits=True)),\n",
    "    'qo-splitter-multi-clone': HoeffdingTreeRegressor(splitter=splitter.QOSplitter(allow_multiway_splits=True)),\n",
    "    'qo-splitter-reg-linear-1': HoeffdingTreeRegressor(merit_preprune=False, splitter=splitter.QOFusionRegSplitter(lmb=1, penalty_method='linear')),\n",
    "    # 'qo-splitter-reg-linear-2': HoeffdingTreeRegressor(splitter=splitter.QOFusionRegSplitter(lmb=0, penalty_method='linear')),\n",
    "    # 'qo-splitter-reg-linear-3': HoeffdingTreeRegressor(splitter=splitter.QOFusionRegSplitter(lmb=0, penalty_method='linear')),\n",
    "    # 'qo-splitter-reg-log-1': HoeffdingTreeRegressor(splitter=splitter.QOFusionRegSplitter(lmb=0, penalty_method='log')),\n",
    "}"
   ],
   "id": "5699d53a43e3acaf",
   "outputs": [],
   "execution_count": 3
  },
  {
   "metadata": {
    "ExecuteTime": {
     "end_time": "2025-08-02T15:49:02.279326Z",
     "start_time": "2025-08-02T15:49:02.273080Z"
    }
   },
   "cell_type": "code",
   "source": [
    "data = ConceptDriftStream(\n",
    "    stream=Hyperplane(n_features=30, n_drift_features=10),\n",
    "    drift_stream=Hyperplane(n_features=30, n_drift_features=10, mag_change=0.5),\n",
    "    position=50000,\n",
    "    width=10000\n",
    ")"
   ],
   "id": "3f1f4bc07a0d07e1",
   "outputs": [],
   "execution_count": 4
  },
  {
   "metadata": {
    "ExecuteTime": {
     "end_time": "2025-08-02T15:50:45.281333Z",
     "start_time": "2025-08-02T15:49:02.305230Z"
    }
   },
   "cell_type": "code",
   "source": [
    "evaluation = EvaluateModels(\n",
    "    models=models,\n",
    ")\n",
    "evaluation.run_experiments()"
   ],
   "id": "dca0d082d9103529",
   "outputs": [
    {
     "name": "stdout",
     "output_type": "stream",
     "text": [
      "Evaluating models - vanilla\n",
      "[20,000] RMSE: 0.407082 – 00:00:05 – 7.58 MiB\n",
      "[40,000] RMSE: 0.400373 – 00:00:11 – 13.81 MiB\n",
      "[60,000] RMSE: 0.428262 – 00:00:17 – 18.74 MiB\n",
      "[80,000] RMSE: 0.447277 – 00:00:25 – 25.24 MiB\n",
      "[100,000] RMSE: 0.450132 – 00:00:34 – 32.77 MiB\n",
      "Evaluating models - qo-splitter-binary\n",
      "[20,000] RMSE: 0.413712 – 00:00:03 – 5.01 MiB\n",
      "[40,000] RMSE: 0.406473 – 00:00:06 – 9.83 MiB\n",
      "[60,000] RMSE: 0.429484 – 00:00:09 – 14.05 MiB\n",
      "[80,000] RMSE: 0.444896 – 00:00:14 – 19.3 MiB\n",
      "[100,000] RMSE: 0.446903 – 00:00:18 – 25.01 MiB\n",
      "Evaluating models - qo-splitter-multi\n",
      "[20,000] RMSE: 0.387817 – 00:00:02 – 2.12 MiB\n",
      "[40,000] RMSE: 0.376595 – 00:00:06 – 2.43 MiB\n",
      "[60,000] RMSE: 0.409015 – 00:00:09 – 3.36 MiB\n",
      "[80,000] RMSE: 0.428875 – 00:00:13 – 7.97 MiB\n",
      "[100,000] RMSE: 0.43366 – 00:00:16 – 8.58 MiB\n",
      "Evaluating models - qo-splitter-multi-clone\n",
      "[20,000] RMSE: 0.409656 – 00:00:02 – 1.71 MiB\n",
      "[40,000] RMSE: 0.397212 – 00:00:06 – 2.02 MiB\n",
      "[60,000] RMSE: 0.421048 – 00:00:10 – 6.66 MiB\n",
      "[80,000] RMSE: 0.434648 – 00:00:13 – 6.66 MiB\n",
      "[100,000] RMSE: 0.441121 – 00:00:17 – 14.45 MiB\n",
      "Evaluating models - qo-splitter-reg-linear-1\n",
      "[20,000] RMSE: 0.373485 – 00:00:02 – 120.38 KiB\n",
      "[40,000] RMSE: 0.366829 – 00:00:05 – 120.38 KiB\n",
      "[60,000] RMSE: 0.385008 – 00:00:08 – 120.38 KiB\n",
      "[80,000] RMSE: 0.379274 – 00:00:11 – 120.38 KiB\n",
      "[100,000] RMSE: 0.375359 – 00:00:13 – 120.38 KiB\n"
     ]
    }
   ],
   "execution_count": 5
  },
  {
   "metadata": {
    "ExecuteTime": {
     "end_time": "2025-08-02T15:50:45.337150Z",
     "start_time": "2025-08-02T15:50:45.315519Z"
    }
   },
   "cell_type": "code",
   "source": "evaluation.summarize()",
   "id": "727e31dd3432087d",
   "outputs": [
    {
     "data": {
      "text/plain": [
       "                          n_nodes  n_branches  n_leaves  n_active_leaves  \\\n",
       "vanilla                       487         243       244              244   \n",
       "qo-splitter-binary            513         256       257              257   \n",
       "qo-splitter-multi             111          28        83               83   \n",
       "qo-splitter-multi-clone       189          47       142              142   \n",
       "qo-splitter-reg-linear-1        1           0         1                1   \n",
       "\n",
       "                          n_inactive_leaves  height  total_observed_weight  \n",
       "vanilla                                   0      16               100000.0  \n",
       "qo-splitter-binary                        0      16               100000.0  \n",
       "qo-splitter-multi                         0       5               100000.0  \n",
       "qo-splitter-multi-clone                   0       5               100000.0  \n",
       "qo-splitter-reg-linear-1                  0       1               100000.0  "
      ],
      "text/html": [
       "<div>\n",
       "<style scoped>\n",
       "    .dataframe tbody tr th:only-of-type {\n",
       "        vertical-align: middle;\n",
       "    }\n",
       "\n",
       "    .dataframe tbody tr th {\n",
       "        vertical-align: top;\n",
       "    }\n",
       "\n",
       "    .dataframe thead th {\n",
       "        text-align: right;\n",
       "    }\n",
       "</style>\n",
       "<table border=\"1\" class=\"dataframe\">\n",
       "  <thead>\n",
       "    <tr style=\"text-align: right;\">\n",
       "      <th></th>\n",
       "      <th>n_nodes</th>\n",
       "      <th>n_branches</th>\n",
       "      <th>n_leaves</th>\n",
       "      <th>n_active_leaves</th>\n",
       "      <th>n_inactive_leaves</th>\n",
       "      <th>height</th>\n",
       "      <th>total_observed_weight</th>\n",
       "    </tr>\n",
       "  </thead>\n",
       "  <tbody>\n",
       "    <tr>\n",
       "      <th>vanilla</th>\n",
       "      <td>487</td>\n",
       "      <td>243</td>\n",
       "      <td>244</td>\n",
       "      <td>244</td>\n",
       "      <td>0</td>\n",
       "      <td>16</td>\n",
       "      <td>100000.0</td>\n",
       "    </tr>\n",
       "    <tr>\n",
       "      <th>qo-splitter-binary</th>\n",
       "      <td>513</td>\n",
       "      <td>256</td>\n",
       "      <td>257</td>\n",
       "      <td>257</td>\n",
       "      <td>0</td>\n",
       "      <td>16</td>\n",
       "      <td>100000.0</td>\n",
       "    </tr>\n",
       "    <tr>\n",
       "      <th>qo-splitter-multi</th>\n",
       "      <td>111</td>\n",
       "      <td>28</td>\n",
       "      <td>83</td>\n",
       "      <td>83</td>\n",
       "      <td>0</td>\n",
       "      <td>5</td>\n",
       "      <td>100000.0</td>\n",
       "    </tr>\n",
       "    <tr>\n",
       "      <th>qo-splitter-multi-clone</th>\n",
       "      <td>189</td>\n",
       "      <td>47</td>\n",
       "      <td>142</td>\n",
       "      <td>142</td>\n",
       "      <td>0</td>\n",
       "      <td>5</td>\n",
       "      <td>100000.0</td>\n",
       "    </tr>\n",
       "    <tr>\n",
       "      <th>qo-splitter-reg-linear-1</th>\n",
       "      <td>1</td>\n",
       "      <td>0</td>\n",
       "      <td>1</td>\n",
       "      <td>1</td>\n",
       "      <td>0</td>\n",
       "      <td>1</td>\n",
       "      <td>100000.0</td>\n",
       "    </tr>\n",
       "  </tbody>\n",
       "</table>\n",
       "</div>"
      ]
     },
     "execution_count": 6,
     "metadata": {},
     "output_type": "execute_result"
    }
   ],
   "execution_count": 6
  },
  {
   "metadata": {
    "ExecuteTime": {
     "end_time": "2025-08-02T15:50:45.583503Z",
     "start_time": "2025-08-02T15:50:45.400060Z"
    }
   },
   "cell_type": "code",
   "source": "models['qo-splitter-reg-linear-1'].draw()",
   "id": "18bc9fd768cc8f95",
   "outputs": [
    {
     "name": "stderr",
     "output_type": "stream",
     "text": [
      "\n",
      "(process:408): Pango-WARNING **: 12:50:45.552: couldn't load font \"trebuchet Not-Rotated 11\", falling back to \"Sans Not-Rotated 11\", expect ugly output.\n"
     ]
    },
    {
     "data": {
      "image/svg+xml": "<?xml version=\"1.0\" encoding=\"UTF-8\" standalone=\"no\"?>\n<!DOCTYPE svg PUBLIC \"-//W3C//DTD SVG 1.1//EN\"\n \"http://www.w3.org/Graphics/SVG/1.1/DTD/svg11.dtd\">\n<!-- Generated by graphviz version 13.1.1 (20250719.2154)\n -->\n<!-- Pages: 1 -->\n<svg width=\"175pt\" height=\"44pt\"\n viewBox=\"0.00 0.00 175.00 44.00\" xmlns=\"http://www.w3.org/2000/svg\" xmlns:xlink=\"http://www.w3.org/1999/xlink\">\n<g id=\"graph0\" class=\"graph\" transform=\"scale(1 1) rotate(0) translate(4 40)\">\n<polygon fill=\"white\" stroke=\"none\" points=\"-4,4 -4,-40 170.65,-40 170.65,4 -4,4\"/>\n<!-- 0 -->\n<g id=\"node1\" class=\"node\">\n<title>0</title>\n<polygon fill=\"#ffffff\" stroke=\"black\" stroke-width=\"1.2\" points=\"166.65,-36 0,-36 0,0 166.65,0 166.65,-36\"/>\n<text xml:space=\"preserve\" text-anchor=\"middle\" x=\"83.32\" y=\"-21.8\" font-family=\"trebuchet\" font-size=\"11.00\">Mean: 0.50088 | Var: 0.250002</text>\n<text xml:space=\"preserve\" text-anchor=\"middle\" x=\"83.32\" y=\"-7.55\" font-family=\"trebuchet\" font-size=\"11.00\">samples: 100000</text>\n</g>\n</g>\n</svg>\n",
      "text/plain": [
       "<graphviz.graphs.Digraph at 0x1a7e83d9160>"
      ]
     },
     "execution_count": 7,
     "metadata": {},
     "output_type": "execute_result"
    }
   ],
   "execution_count": 7
  },
  {
   "metadata": {
    "ExecuteTime": {
     "end_time": "2025-08-02T15:50:45.651354Z",
     "start_time": "2025-08-02T15:50:45.648197Z"
    }
   },
   "cell_type": "code",
   "source": "",
   "id": "4b06edd66a79dab3",
   "outputs": [],
   "execution_count": null
  }
 ],
 "metadata": {
  "kernelspec": {
   "display_name": "Python 3",
   "language": "python",
   "name": "python3"
  },
  "language_info": {
   "codemirror_mode": {
    "name": "ipython",
    "version": 2
   },
   "file_extension": ".py",
   "mimetype": "text/x-python",
   "name": "python",
   "nbconvert_exporter": "python",
   "pygments_lexer": "ipython2",
   "version": "2.7.6"
  }
 },
 "nbformat": 4,
 "nbformat_minor": 5
}
