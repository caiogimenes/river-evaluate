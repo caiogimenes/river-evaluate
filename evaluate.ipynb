{
 "cells": [
  {
   "cell_type": "code",
   "id": "initial_id",
   "metadata": {
    "collapsed": true,
    "ExecuteTime": {
     "end_time": "2025-08-02T20:15:34.257558Z",
     "start_time": "2025-08-02T20:15:32.218283Z"
    }
   },
   "source": [
    "import typing\n",
    "\n",
    "from river.tree import HoeffdingTreeRegressor, HoeffdingAdaptiveTreeRegressor, splitter\n",
    "from river.datasets.synth import FriedmanDrift, Hyperplane, ConceptDriftStream\n",
    "from river.datasets import Bikes, Elec2\n",
    "from river.evaluate import progressive_val_score\n",
    "from river.metrics import RMSE\n",
    "\n",
    "import pandas as pd"
   ],
   "outputs": [],
   "execution_count": 1
  },
  {
   "metadata": {
    "ExecuteTime": {
     "end_time": "2025-08-02T20:15:34.598881Z",
     "start_time": "2025-08-02T20:15:34.589688Z"
    }
   },
   "cell_type": "code",
   "source": [
    "class EvaluateModels:\n",
    "    def __init__(self, models: typing.Dict[str, typing.Any], metric = RMSE(), instances=100000):\n",
    "        self.models = models\n",
    "        self.metric = metric\n",
    "        self.instances = instances\n",
    "\n",
    "    @staticmethod\n",
    "    def get_dataset():\n",
    "        return ConceptDriftStream(\n",
    "            stream=FriedmanDrift(),\n",
    "            drift_stream=FriedmanDrift(drift_type='lea')\n",
    "        )\n",
    "\n",
    "    def run_experiments(self):\n",
    "        for model_name, model in self.models.items():\n",
    "            print(\"Evaluating models - {}\".format(model_name))\n",
    "            progressive_val_score(\n",
    "                dataset=self.get_dataset().take(self.instances),\n",
    "                model=model,\n",
    "                metric=RMSE(),\n",
    "                print_every=20000,\n",
    "                show_time=True,\n",
    "                show_memory=True,\n",
    "            )\n",
    "\n",
    "    def summarize(self):\n",
    "        summaries = {model_name: model.summary for model_name, model in self.models.items()}\n",
    "        return pd.DataFrame(index=summaries.keys(), data=summaries.values())"
   ],
   "id": "b8a964e6162bec3c",
   "outputs": [],
   "execution_count": 2
  },
  {
   "metadata": {
    "ExecuteTime": {
     "end_time": "2025-08-02T20:15:34.633820Z",
     "start_time": "2025-08-02T20:15:34.625710Z"
    }
   },
   "cell_type": "code",
   "source": [
    "models = {\n",
    "    'qo-splitter-binary': HoeffdingTreeRegressor(splitter=splitter.QOSplitter(allow_multiway_splits=False)),\n",
    "    'qo-splitter-multi': HoeffdingTreeRegressor(splitter=splitter.QOSplitter(allow_multiway_splits=True)),\n",
    "    'fading-qo-splitter-.999': HoeffdingTreeRegressor(splitter=splitter.FadingQOSplitter(allow_multiway_splits=True)),\n",
    "    'fading-qo-splitter-clone': HoeffdingTreeRegressor(splitter=splitter.FadingQOSplitter(allow_multiway_splits=True)),\n",
    "    'adaptive': HoeffdingAdaptiveTreeRegressor()\n",
    "}"
   ],
   "id": "5699d53a43e3acaf",
   "outputs": [],
   "execution_count": 3
  },
  {
   "metadata": {
    "ExecuteTime": {
     "end_time": "2025-08-02T20:16:37.922444Z",
     "start_time": "2025-08-02T20:15:34.683542Z"
    }
   },
   "cell_type": "code",
   "source": [
    "evaluation = EvaluateModels(\n",
    "    models=models,\n",
    ")\n",
    "evaluation.run_experiments()"
   ],
   "id": "dca0d082d9103529",
   "outputs": [
    {
     "name": "stdout",
     "output_type": "stream",
     "text": [
      "Evaluating models - qo-splitter-binary\n",
      "[20,000] RMSE: 2.474949 – 00:00:01 – 1.58 MiB\n",
      "[40,000] RMSE: 2.381478 – 00:00:03 – 3.26 MiB\n",
      "[60,000] RMSE: 2.341639 – 00:00:05 – 4.67 MiB\n",
      "[80,000] RMSE: 2.331885 – 00:00:07 – 5.79 MiB\n",
      "[100,000] RMSE: 2.315637 – 00:00:09 – 7.08 MiB\n",
      "Evaluating models - qo-splitter-multi\n",
      "[20,000] RMSE: 2.487789 – 00:00:01 – 2.07 MiB\n",
      "[40,000] RMSE: 2.318995 – 00:00:03 – 3.77 MiB\n",
      "[60,000] RMSE: 2.271053 – 00:00:05 – 5.12 MiB\n",
      "[80,000] RMSE: 2.26959 – 00:00:07 – 9.33 MiB\n",
      "[100,000] RMSE: 2.236478 – 00:00:09 – 14.86 MiB\n",
      "Evaluating models - fading-qo-splitter-.999\n",
      "[20,000] RMSE: 2.429079 – 00:00:01 – 1.45 MiB\n",
      "[40,000] RMSE: 2.300205 – 00:00:03 – 3.1 MiB\n",
      "[60,000] RMSE: 2.248728 – 00:00:05 – 5.02 MiB\n",
      "[80,000] RMSE: 2.232955 – 00:00:08 – 6.8 MiB\n",
      "[100,000] RMSE: 2.204936 – 00:00:10 – 9.07 MiB\n",
      "Evaluating models - fading-qo-splitter-clone\n",
      "[20,000] RMSE: 2.463899 – 00:00:03 – 1.61 MiB\n",
      "[40,000] RMSE: 2.321049 – 00:00:05 – 3.52 MiB\n",
      "[60,000] RMSE: 2.245163 – 00:00:07 – 4.98 MiB\n",
      "[80,000] RMSE: 2.220855 – 00:00:10 – 6.62 MiB\n",
      "[100,000] RMSE: 2.187727 – 00:00:12 – 8.47 MiB\n",
      "Evaluating models - adaptive\n",
      "[20,000] RMSE: 2.308253 – 00:00:03 – 3.35 MiB\n",
      "[40,000] RMSE: 2.285013 – 00:00:08 – 1.89 MiB\n",
      "[60,000] RMSE: 2.394259 – 00:00:12 – 1.56 MiB\n",
      "[80,000] RMSE: 2.459615 – 00:00:16 – 2.81 MiB\n",
      "[100,000] RMSE: 2.482774 – 00:00:20 – 1.35 MiB\n"
     ]
    }
   ],
   "execution_count": 4
  },
  {
   "metadata": {
    "ExecuteTime": {
     "end_time": "2025-08-02T20:16:37.983271Z",
     "start_time": "2025-08-02T20:16:37.955044Z"
    }
   },
   "cell_type": "code",
   "source": "valuation.summarize()",
   "id": "727e31dd3432087d",
   "outputs": [
    {
     "data": {
      "text/plain": [
       "                          n_nodes  n_branches  n_leaves  n_active_leaves  \\\n",
       "qo-splitter-binary            485         242       243              243   \n",
       "qo-splitter-multi             757         189       568              568   \n",
       "fading-qo-splitter-.999       509         218       291              291   \n",
       "fading-qo-splitter-clone      508         220       288              288   \n",
       "adaptive                       61          30        31              420   \n",
       "\n",
       "                          n_inactive_leaves  height  total_observed_weight  \\\n",
       "qo-splitter-binary                        0      16               100000.0   \n",
       "qo-splitter-multi                         0       6               100000.0   \n",
       "fading-qo-splitter-.999                   0      13               100000.0   \n",
       "fading-qo-splitter-clone                  0      11               100000.0   \n",
       "adaptive                                  0      10               100000.0   \n",
       "\n",
       "                          n_alternate_trees  n_pruned_alternate_trees  \\\n",
       "qo-splitter-binary                      NaN                       NaN   \n",
       "qo-splitter-multi                       NaN                       NaN   \n",
       "fading-qo-splitter-.999                 NaN                       NaN   \n",
       "fading-qo-splitter-clone                NaN                       NaN   \n",
       "adaptive                               31.0                       6.0   \n",
       "\n",
       "                          n_switch_alternate_trees  \n",
       "qo-splitter-binary                             NaN  \n",
       "qo-splitter-multi                              NaN  \n",
       "fading-qo-splitter-.999                        NaN  \n",
       "fading-qo-splitter-clone                       NaN  \n",
       "adaptive                                       0.0  "
      ],
      "text/html": [
       "<div>\n",
       "<style scoped>\n",
       "    .dataframe tbody tr th:only-of-type {\n",
       "        vertical-align: middle;\n",
       "    }\n",
       "\n",
       "    .dataframe tbody tr th {\n",
       "        vertical-align: top;\n",
       "    }\n",
       "\n",
       "    .dataframe thead th {\n",
       "        text-align: right;\n",
       "    }\n",
       "</style>\n",
       "<table border=\"1\" class=\"dataframe\">\n",
       "  <thead>\n",
       "    <tr style=\"text-align: right;\">\n",
       "      <th></th>\n",
       "      <th>n_nodes</th>\n",
       "      <th>n_branches</th>\n",
       "      <th>n_leaves</th>\n",
       "      <th>n_active_leaves</th>\n",
       "      <th>n_inactive_leaves</th>\n",
       "      <th>height</th>\n",
       "      <th>total_observed_weight</th>\n",
       "      <th>n_alternate_trees</th>\n",
       "      <th>n_pruned_alternate_trees</th>\n",
       "      <th>n_switch_alternate_trees</th>\n",
       "    </tr>\n",
       "  </thead>\n",
       "  <tbody>\n",
       "    <tr>\n",
       "      <th>qo-splitter-binary</th>\n",
       "      <td>485</td>\n",
       "      <td>242</td>\n",
       "      <td>243</td>\n",
       "      <td>243</td>\n",
       "      <td>0</td>\n",
       "      <td>16</td>\n",
       "      <td>100000.0</td>\n",
       "      <td>NaN</td>\n",
       "      <td>NaN</td>\n",
       "      <td>NaN</td>\n",
       "    </tr>\n",
       "    <tr>\n",
       "      <th>qo-splitter-multi</th>\n",
       "      <td>757</td>\n",
       "      <td>189</td>\n",
       "      <td>568</td>\n",
       "      <td>568</td>\n",
       "      <td>0</td>\n",
       "      <td>6</td>\n",
       "      <td>100000.0</td>\n",
       "      <td>NaN</td>\n",
       "      <td>NaN</td>\n",
       "      <td>NaN</td>\n",
       "    </tr>\n",
       "    <tr>\n",
       "      <th>fading-qo-splitter-.999</th>\n",
       "      <td>509</td>\n",
       "      <td>218</td>\n",
       "      <td>291</td>\n",
       "      <td>291</td>\n",
       "      <td>0</td>\n",
       "      <td>13</td>\n",
       "      <td>100000.0</td>\n",
       "      <td>NaN</td>\n",
       "      <td>NaN</td>\n",
       "      <td>NaN</td>\n",
       "    </tr>\n",
       "    <tr>\n",
       "      <th>fading-qo-splitter-clone</th>\n",
       "      <td>508</td>\n",
       "      <td>220</td>\n",
       "      <td>288</td>\n",
       "      <td>288</td>\n",
       "      <td>0</td>\n",
       "      <td>11</td>\n",
       "      <td>100000.0</td>\n",
       "      <td>NaN</td>\n",
       "      <td>NaN</td>\n",
       "      <td>NaN</td>\n",
       "    </tr>\n",
       "    <tr>\n",
       "      <th>adaptive</th>\n",
       "      <td>61</td>\n",
       "      <td>30</td>\n",
       "      <td>31</td>\n",
       "      <td>420</td>\n",
       "      <td>0</td>\n",
       "      <td>10</td>\n",
       "      <td>100000.0</td>\n",
       "      <td>31.0</td>\n",
       "      <td>6.0</td>\n",
       "      <td>0.0</td>\n",
       "    </tr>\n",
       "  </tbody>\n",
       "</table>\n",
       "</div>"
      ]
     },
     "execution_count": 5,
     "metadata": {},
     "output_type": "execute_result"
    }
   ],
   "execution_count": 5
  }
 ],
 "metadata": {
  "kernelspec": {
   "display_name": "Python 3",
   "language": "python",
   "name": "python3"
  },
  "language_info": {
   "codemirror_mode": {
    "name": "ipython",
    "version": 2
   },
   "file_extension": ".py",
   "mimetype": "text/x-python",
   "name": "python",
   "nbconvert_exporter": "python",
   "pygments_lexer": "ipython2",
   "version": "2.7.6"
  }
 },
 "nbformat": 4,
 "nbformat_minor": 5
}
