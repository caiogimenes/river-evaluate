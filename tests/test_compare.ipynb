{
 "cells": [
  {
   "cell_type": "code",
   "execution_count": 1,
   "id": "871299f0",
   "metadata": {},
   "outputs": [],
   "source": [
    "import river"
   ]
  },
  {
   "cell_type": "code",
   "execution_count": 2,
   "id": "3f1ba885",
   "metadata": {},
   "outputs": [],
   "source": [
    "from river.tree import HoeffdingTreeRegressorCS, HoeffdingTreeRegressor\n",
    "from river.ensemble import BaggingRegressor\n",
    "from river.feature_selection import SelectKBest"
   ]
  },
  {
   "cell_type": "code",
   "execution_count": 3,
   "id": "7c033a8a",
   "metadata": {},
   "outputs": [],
   "source": [
    "from ucimlrepo import fetch_ucirepo \n",
    "  \n",
    "# fetch dataset \n",
    "abalone = fetch_ucirepo(id=1) \n",
    "  \n",
    "# data (as pandas dataframes) \n",
    "X = abalone.data.features \n",
    "target = abalone.data.targets"
   ]
  },
  {
   "cell_type": "code",
   "execution_count": 4,
   "id": "9b935455",
   "metadata": {},
   "outputs": [],
   "source": [
    "transformers = []\n",
    "for i in range(1,5):\n",
    "    transformers.append(SelectKBest(similarity=river.stats.PearsonCorr(), k=i))"
   ]
  },
  {
   "cell_type": "code",
   "execution_count": 5,
   "id": "26d3969a",
   "metadata": {},
   "outputs": [],
   "source": [
    "models = [\n",
    "    BaggingRegressor(\n",
    "        model=HoeffdingTreeRegressor(\n",
    "            leaf_prediction='mean'\n",
    "        )\n",
    "    )\n",
    "]\n",
    "\n",
    "for transformer in transformers:\n",
    "    models.append(\n",
    "        BaggingRegressor(\n",
    "            model=HoeffdingTreeRegressorCS(\n",
    "                transformer=transformer,\n",
    "                leaf_prediction='mean'\n",
    "            ) \n",
    "        )\n",
    "    )"
   ]
  },
  {
   "cell_type": "code",
   "execution_count": 6,
   "id": "f0572053",
   "metadata": {},
   "outputs": [],
   "source": [
    "models_map = {\n",
    "    0: 'bag-mean',\n",
    "    1: 'bag-cs-1-mean',\n",
    "    2: 'bag-cs-2-mean',\n",
    "    3: 'bag-cs-3-mean',\n",
    "    4: 'bag-cs-4-mean'\n",
    "}\n",
    "\n",
    "dataset_map = {\n",
    "    0: 'abalone'\n",
    "}"
   ]
  },
  {
   "cell_type": "code",
   "execution_count": 7,
   "id": "fd6397eb",
   "metadata": {},
   "outputs": [],
   "source": [
    "from riverevaluate.eval import CompareModels"
   ]
  },
  {
   "cell_type": "code",
   "execution_count": 8,
   "id": "e0953dbc",
   "metadata": {},
   "outputs": [],
   "source": [
    "evaluate = CompareModels(\n",
    "    models=models,\n",
    "    features=[X],\n",
    "    targets=[target],\n",
    "    models_map = models_map,\n",
    "    dataset_map = dataset_map\n",
    ")"
   ]
  },
  {
   "cell_type": "code",
   "execution_count": 9,
   "id": "ffafd0fc",
   "metadata": {},
   "outputs": [],
   "source": [
    "results = evaluate.run_trainings()"
   ]
  },
  {
   "cell_type": "code",
   "execution_count": 10,
   "id": "86aa3a20",
   "metadata": {},
   "outputs": [
    {
     "data": {
      "text/plain": [
       "TrainResults(runtime=5.267141103744507, eval_metric=MAE: 2.166577, dataset='abalone', model_name='bag-mean')"
      ]
     },
     "execution_count": 10,
     "metadata": {},
     "output_type": "execute_result"
    }
   ],
   "source": [
    "results['bag-mean']['abalone']"
   ]
  },
  {
   "cell_type": "code",
   "execution_count": 11,
   "id": "203aa096",
   "metadata": {},
   "outputs": [
    {
     "data": {
      "text/plain": [
       "TrainResults(runtime=6.478877067565918, eval_metric=MAE: 1.935141, dataset='abalone', model_name='bag-cs-1-mean')"
      ]
     },
     "execution_count": 11,
     "metadata": {},
     "output_type": "execute_result"
    }
   ],
   "source": [
    "results['bag-cs-1-mean']['abalone']"
   ]
  },
  {
   "cell_type": "code",
   "execution_count": 12,
   "id": "5b0ccce0",
   "metadata": {},
   "outputs": [
    {
     "data": {
      "text/plain": [
       "TrainResults(runtime=8.569622278213501, eval_metric=MAE: 2.114943, dataset='abalone', model_name='bag-cs-3-mean')"
      ]
     },
     "execution_count": 12,
     "metadata": {},
     "output_type": "execute_result"
    }
   ],
   "source": [
    "results['bag-cs-3-mean']['abalone']"
   ]
  },
  {
   "cell_type": "code",
   "execution_count": null,
   "id": "a68cc885",
   "metadata": {},
   "outputs": [],
   "source": []
  }
 ],
 "metadata": {
  "kernelspec": {
   "display_name": "Python 3",
   "language": "python",
   "name": "python3"
  },
  "language_info": {
   "codemirror_mode": {
    "name": "ipython",
    "version": 3
   },
   "file_extension": ".py",
   "mimetype": "text/x-python",
   "name": "python",
   "nbconvert_exporter": "python",
   "pygments_lexer": "ipython3",
   "version": "3.13.2"
  }
 },
 "nbformat": 4,
 "nbformat_minor": 5
}
