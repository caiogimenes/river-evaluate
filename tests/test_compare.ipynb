{
 "cells": [
  {
   "cell_type": "code",
   "execution_count": 1,
   "id": "871299f0",
   "metadata": {},
   "outputs": [],
   "source": [
    "import river"
   ]
  },
  {
   "cell_type": "code",
   "execution_count": 2,
   "id": "3f1ba885",
   "metadata": {},
   "outputs": [],
   "source": [
    "from river.tree import HoeffdingTreeRegressorCS, HoeffdingTreeRegressor\n",
    "from river.ensemble import BaggingRegressor\n",
    "from river.feature_selection import SelectKBest"
   ]
  },
  {
   "cell_type": "code",
   "execution_count": 3,
   "id": "3f1ba885",
   "metadata": {},
   "outputs": [],
   "source": [
    "from ucimlrepo import fetch_ucirepo \n",
    "  \n",
    "# fetch dataset \n",
    "abalone = fetch_ucirepo(id=1)\n",
    "wine_quality = fetch_ucirepo(id=186) \n",
    "  \n",
    "# data (as pandas dataframes) \n",
    "X = [abalone.data.features, wine_quality.data.features] \n",
    "y = [abalone.data.targets, wine_quality.data.targets]\n"
   ]
  },
  {
   "cell_type": "code",
   "execution_count": 4,
   "id": "f0572053",
   "metadata": {},
   "outputs": [],
   "source": [
    "dataset_map = {\n",
    "    0: 'abalone',\n",
    "    1: 'winequality'\n",
    "}"
   ]
  },
  {
   "cell_type": "code",
   "execution_count": 5,
   "id": "9b935455",
   "metadata": {},
   "outputs": [],
   "source": [
    "transformers = []\n",
    "for i in range(1,5):\n",
    "    transformers.append(SelectKBest(similarity=river.stats.PearsonCorr(), k=i))"
   ]
  },
  {
   "cell_type": "code",
   "execution_count": 6,
   "id": "26d3969a",
   "metadata": {},
   "outputs": [],
   "source": [
    "models = [\n",
    "    BaggingRegressor(\n",
    "        model=HoeffdingTreeRegressor(\n",
    "            leaf_prediction='mean'\n",
    "        )\n",
    "    )\n",
    "]\n",
    "\n",
    "for transformer in transformers:\n",
    "    models.append(\n",
    "        BaggingRegressor(\n",
    "            model=HoeffdingTreeRegressorCS(\n",
    "                transformer=transformer,\n",
    "                leaf_prediction='mean'\n",
    "            ) \n",
    "        )\n",
    "    )"
   ]
  },
  {
   "cell_type": "code",
   "execution_count": 7,
   "id": "003aa24d",
   "metadata": {},
   "outputs": [],
   "source": [
    "models_map = {\n",
    "    0: 'bag-mean',\n",
    "    1: 'bag-cs-1-mean',\n",
    "    2: 'bag-cs-2-mean',\n",
    "    3: 'bag-cs-3-mean',\n",
    "    4: 'bag-cs-4-mean'\n",
    "}"
   ]
  },
  {
   "cell_type": "code",
   "execution_count": 8,
   "id": "fd6397eb",
   "metadata": {},
   "outputs": [],
   "source": [
    "from riverevaluate.eval import CompareModels"
   ]
  },
  {
   "cell_type": "code",
   "execution_count": null,
   "id": "e0953dbc",
   "metadata": {},
   "outputs": [],
   "source": [
    "evaluate = CompareModels(\n",
    "    models=models,\n",
    "    features=X,\n",
    "    targets=y,\n",
    "    models_map = models_map,\n",
    "    dataset_map = dataset_map\n",
    ")"
   ]
  },
  {
   "cell_type": "code",
   "execution_count": 10,
   "id": "ffafd0fc",
   "metadata": {},
   "outputs": [],
   "source": [
    "results = evaluate.summary_results()"
   ]
  },
  {
   "cell_type": "code",
   "execution_count": 11,
   "id": "a8ef95ac",
   "metadata": {},
   "outputs": [
    {
     "data": {
      "text/html": [
       "<div>\n",
       "<style scoped>\n",
       "    .dataframe tbody tr th:only-of-type {\n",
       "        vertical-align: middle;\n",
       "    }\n",
       "\n",
       "    .dataframe tbody tr th {\n",
       "        vertical-align: top;\n",
       "    }\n",
       "\n",
       "    .dataframe thead th {\n",
       "        text-align: right;\n",
       "    }\n",
       "</style>\n",
       "<table border=\"1\" class=\"dataframe\">\n",
       "  <thead>\n",
       "    <tr style=\"text-align: right;\">\n",
       "      <th></th>\n",
       "      <th>model</th>\n",
       "      <th>runtime</th>\n",
       "      <th>dataset</th>\n",
       "      <th>error</th>\n",
       "      <th>memory</th>\n",
       "    </tr>\n",
       "  </thead>\n",
       "  <tbody>\n",
       "    <tr>\n",
       "      <th>0</th>\n",
       "      <td>bag-mean</td>\n",
       "      <td>9.332840</td>\n",
       "      <td>abalone</td>\n",
       "      <td>MAE: 2.127735</td>\n",
       "      <td>5132074</td>\n",
       "    </tr>\n",
       "    <tr>\n",
       "      <th>1</th>\n",
       "      <td>bag-mean</td>\n",
       "      <td>23.793062</td>\n",
       "      <td>winequality</td>\n",
       "      <td>MAE: 2.117792</td>\n",
       "      <td>5132074</td>\n",
       "    </tr>\n",
       "    <tr>\n",
       "      <th>2</th>\n",
       "      <td>bag-cs-1-mean</td>\n",
       "      <td>9.835033</td>\n",
       "      <td>abalone</td>\n",
       "      <td>MAE: 1.96073</td>\n",
       "      <td>5886825</td>\n",
       "    </tr>\n",
       "    <tr>\n",
       "      <th>3</th>\n",
       "      <td>bag-cs-1-mean</td>\n",
       "      <td>37.336706</td>\n",
       "      <td>winequality</td>\n",
       "      <td>MAE: 1.204742</td>\n",
       "      <td>5886825</td>\n",
       "    </tr>\n",
       "    <tr>\n",
       "      <th>4</th>\n",
       "      <td>bag-cs-2-mean</td>\n",
       "      <td>5.603360</td>\n",
       "      <td>abalone</td>\n",
       "      <td>MAE: 2.010674</td>\n",
       "      <td>5365441</td>\n",
       "    </tr>\n",
       "    <tr>\n",
       "      <th>5</th>\n",
       "      <td>bag-cs-2-mean</td>\n",
       "      <td>9.450519</td>\n",
       "      <td>winequality</td>\n",
       "      <td>MAE: 1.976318</td>\n",
       "      <td>5365441</td>\n",
       "    </tr>\n",
       "    <tr>\n",
       "      <th>6</th>\n",
       "      <td>bag-cs-3-mean</td>\n",
       "      <td>4.214279</td>\n",
       "      <td>abalone</td>\n",
       "      <td>MAE: 2.109564</td>\n",
       "      <td>5307569</td>\n",
       "    </tr>\n",
       "    <tr>\n",
       "      <th>7</th>\n",
       "      <td>bag-cs-3-mean</td>\n",
       "      <td>8.142508</td>\n",
       "      <td>winequality</td>\n",
       "      <td>MAE: 1.71893</td>\n",
       "      <td>5307569</td>\n",
       "    </tr>\n",
       "    <tr>\n",
       "      <th>8</th>\n",
       "      <td>bag-cs-4-mean</td>\n",
       "      <td>3.837227</td>\n",
       "      <td>abalone</td>\n",
       "      <td>MAE: 2.126844</td>\n",
       "      <td>5255017</td>\n",
       "    </tr>\n",
       "    <tr>\n",
       "      <th>9</th>\n",
       "      <td>bag-cs-4-mean</td>\n",
       "      <td>7.022025</td>\n",
       "      <td>winequality</td>\n",
       "      <td>MAE: 1.924441</td>\n",
       "      <td>5255017</td>\n",
       "    </tr>\n",
       "  </tbody>\n",
       "</table>\n",
       "</div>"
      ],
      "text/plain": [
       "           model    runtime      dataset          error   memory\n",
       "0       bag-mean   9.332840      abalone  MAE: 2.127735  5132074\n",
       "1       bag-mean  23.793062  winequality  MAE: 2.117792  5132074\n",
       "2  bag-cs-1-mean   9.835033      abalone   MAE: 1.96073  5886825\n",
       "3  bag-cs-1-mean  37.336706  winequality  MAE: 1.204742  5886825\n",
       "4  bag-cs-2-mean   5.603360      abalone  MAE: 2.010674  5365441\n",
       "5  bag-cs-2-mean   9.450519  winequality  MAE: 1.976318  5365441\n",
       "6  bag-cs-3-mean   4.214279      abalone  MAE: 2.109564  5307569\n",
       "7  bag-cs-3-mean   8.142508  winequality   MAE: 1.71893  5307569\n",
       "8  bag-cs-4-mean   3.837227      abalone  MAE: 2.126844  5255017\n",
       "9  bag-cs-4-mean   7.022025  winequality  MAE: 1.924441  5255017"
      ]
     },
     "execution_count": 11,
     "metadata": {},
     "output_type": "execute_result"
    }
   ],
   "source": [
    "results"
   ]
  }
 ],
 "metadata": {
  "kernelspec": {
   "display_name": "Python 3",
   "language": "python",
   "name": "python3"
  },
  "language_info": {
   "codemirror_mode": {
    "name": "ipython",
    "version": 3
   },
   "file_extension": ".py",
   "mimetype": "text/x-python",
   "name": "python",
   "nbconvert_exporter": "python",
   "pygments_lexer": "ipython3",
   "version": "3.13.2"
  }
 },
 "nbformat": 4,
 "nbformat_minor": 5
}
