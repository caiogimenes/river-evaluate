{
 "cells": [
  {
   "cell_type": "code",
   "execution_count": 1,
   "id": "871299f0",
   "metadata": {},
   "outputs": [],
   "source": [
    "import river"
   ]
  },
  {
   "cell_type": "code",
   "execution_count": 2,
   "id": "3f1ba885",
   "metadata": {},
   "outputs": [],
   "source": [
    "from river.tree import HoeffdingTreeRegressorCS, HoeffdingTreeRegressor\n",
    "from river.ensemble import BaggingRegressor\n",
    "from river.feature_selection import SelectKBest"
   ]
  },
  {
   "cell_type": "code",
   "execution_count": 3,
   "id": "a903d473",
   "metadata": {},
   "outputs": [],
   "source": [
    "from ucimlrepo import fetch_ucirepo \n",
    "  \n",
    "# fetch dataset \n",
    "abalone = fetch_ucirepo(id=1)\n",
    "wine_quality = fetch_ucirepo(id=186) \n",
    "  \n",
    "# data (as pandas dataframes) \n",
    "X = [abalone.data.features, wine_quality.data.features] \n",
    "y = [abalone.data.targets, wine_quality.data.targets]\n"
   ]
  },
  {
   "cell_type": "code",
   "execution_count": 16,
   "id": "3eba93e9",
   "metadata": {},
   "outputs": [
    {
     "data": {
      "text/plain": [
       "(6497, 11)"
      ]
     },
     "execution_count": 16,
     "metadata": {},
     "output_type": "execute_result"
    }
   ],
   "source": [
    "X[0].shape\n",
    "X[1].shape"
   ]
  },
  {
   "cell_type": "code",
   "execution_count": 4,
   "id": "f0572053",
   "metadata": {},
   "outputs": [],
   "source": [
    "dataset_map = {\n",
    "    0: 'abalone',\n",
    "    1: 'winequality'\n",
    "}"
   ]
  },
  {
   "cell_type": "code",
   "execution_count": 5,
   "id": "9b935455",
   "metadata": {},
   "outputs": [],
   "source": [
    "transformers = []\n",
    "for i in range(1,5):\n",
    "    transformers.append(SelectKBest(similarity=river.stats.PearsonCorr(), k=i))"
   ]
  },
  {
   "cell_type": "code",
   "execution_count": null,
   "id": "26d3969a",
   "metadata": {},
   "outputs": [],
   "source": [
    "models = [\n",
    "    BaggingRegressor(\n",
    "        model=HoeffdingTreeRegressor(\n",
    "            leaf_prediction='mean'\n",
    "        )\n",
    "    )\n",
    "]\n",
    "\n",
    "for transformer in transformers:\n",
    "    models.append(\n",
    "        BaggingRegressor(\n",
    "            model=HoeffdingTreeRegressorCS(\n",
    "                transformer=transformer,\n",
    "                leaf_prediction='mean'\n",
    "            ) \n",
    "        )\n",
    "    )"
   ]
  },
  {
   "cell_type": "code",
   "execution_count": 7,
   "id": "003aa24d",
   "metadata": {},
   "outputs": [],
   "source": [
    "models_map = {\n",
    "    0: 'bag-mean',\n",
    "    1: 'bag-cs-1-mean',\n",
    "    2: 'bag-cs-2-mean',\n",
    "    3: 'bag-cs-3-mean',\n",
    "    4: 'bag-cs-4-mean'\n",
    "}"
   ]
  },
  {
   "cell_type": "code",
   "execution_count": null,
   "id": "fd6397eb",
   "metadata": {},
   "outputs": [],
   "source": [
    "from riverevaluate.eval import CompareModels"
   ]
  },
  {
   "cell_type": "code",
   "execution_count": 9,
   "id": "e0953dbc",
   "metadata": {},
   "outputs": [],
   "source": [
    "evaluate = CompareModels(\n",
    "    models=models,\n",
    "    features=X,\n",
    "    targets=y,\n",
    "    models_map = models_map,\n",
    "    dataset_map = dataset_map\n",
    ")"
   ]
  },
  {
   "cell_type": "code",
   "execution_count": 10,
   "id": "ffafd0fc",
   "metadata": {},
   "outputs": [],
   "source": [
    "results = evaluate.summary_results()"
   ]
  },
  {
   "cell_type": "code",
   "execution_count": 20,
   "id": "a8ef95ac",
   "metadata": {},
   "outputs": [
    {
     "data": {
      "text/html": [
       "<div>\n",
       "<style scoped>\n",
       "    .dataframe tbody tr th:only-of-type {\n",
       "        vertical-align: middle;\n",
       "    }\n",
       "\n",
       "    .dataframe tbody tr th {\n",
       "        vertical-align: top;\n",
       "    }\n",
       "\n",
       "    .dataframe thead th {\n",
       "        text-align: right;\n",
       "    }\n",
       "</style>\n",
       "<table border=\"1\" class=\"dataframe\">\n",
       "  <thead>\n",
       "    <tr style=\"text-align: right;\">\n",
       "      <th></th>\n",
       "      <th>model</th>\n",
       "      <th>runtime</th>\n",
       "      <th>dataset</th>\n",
       "      <th>error</th>\n",
       "      <th>memory</th>\n",
       "    </tr>\n",
       "  </thead>\n",
       "  <tbody>\n",
       "    <tr>\n",
       "      <th>0</th>\n",
       "      <td>bag-mean</td>\n",
       "      <td>4.782630</td>\n",
       "      <td>abalone</td>\n",
       "      <td>MAE: 2.183564</td>\n",
       "      <td>5142670</td>\n",
       "    </tr>\n",
       "    <tr>\n",
       "      <th>1</th>\n",
       "      <td>bag-mean</td>\n",
       "      <td>7.474814</td>\n",
       "      <td>winequality</td>\n",
       "      <td>MAE: 2.010383</td>\n",
       "      <td>5142670</td>\n",
       "    </tr>\n",
       "    <tr>\n",
       "      <th>2</th>\n",
       "      <td>bag-cs-1-mean</td>\n",
       "      <td>4.136345</td>\n",
       "      <td>abalone</td>\n",
       "      <td>MAE: 1.965928</td>\n",
       "      <td>5918093</td>\n",
       "    </tr>\n",
       "    <tr>\n",
       "      <th>3</th>\n",
       "      <td>bag-cs-1-mean</td>\n",
       "      <td>18.351462</td>\n",
       "      <td>winequality</td>\n",
       "      <td>MAE: 1.061689</td>\n",
       "      <td>5918093</td>\n",
       "    </tr>\n",
       "    <tr>\n",
       "      <th>4</th>\n",
       "      <td>bag-cs-2-mean</td>\n",
       "      <td>6.926683</td>\n",
       "      <td>abalone</td>\n",
       "      <td>MAE: 2.071502</td>\n",
       "      <td>5495977</td>\n",
       "    </tr>\n",
       "    <tr>\n",
       "      <th>5</th>\n",
       "      <td>bag-cs-2-mean</td>\n",
       "      <td>8.620138</td>\n",
       "      <td>winequality</td>\n",
       "      <td>MAE: 1.764058</td>\n",
       "      <td>5495977</td>\n",
       "    </tr>\n",
       "    <tr>\n",
       "      <th>6</th>\n",
       "      <td>bag-cs-3-mean</td>\n",
       "      <td>6.071250</td>\n",
       "      <td>abalone</td>\n",
       "      <td>MAE: 2.065129</td>\n",
       "      <td>5359837</td>\n",
       "    </tr>\n",
       "    <tr>\n",
       "      <th>7</th>\n",
       "      <td>bag-cs-3-mean</td>\n",
       "      <td>10.691402</td>\n",
       "      <td>winequality</td>\n",
       "      <td>MAE: 1.734915</td>\n",
       "      <td>5359837</td>\n",
       "    </tr>\n",
       "    <tr>\n",
       "      <th>8</th>\n",
       "      <td>bag-cs-4-mean</td>\n",
       "      <td>3.994031</td>\n",
       "      <td>abalone</td>\n",
       "      <td>MAE: 2.112377</td>\n",
       "      <td>5261201</td>\n",
       "    </tr>\n",
       "    <tr>\n",
       "      <th>9</th>\n",
       "      <td>bag-cs-4-mean</td>\n",
       "      <td>9.862196</td>\n",
       "      <td>winequality</td>\n",
       "      <td>MAE: 1.952828</td>\n",
       "      <td>5261201</td>\n",
       "    </tr>\n",
       "  </tbody>\n",
       "</table>\n",
       "</div>"
      ],
      "text/plain": [
       "           model    runtime      dataset          error   memory\n",
       "0       bag-mean   4.782630      abalone  MAE: 2.183564  5142670\n",
       "1       bag-mean   7.474814  winequality  MAE: 2.010383  5142670\n",
       "2  bag-cs-1-mean   4.136345      abalone  MAE: 1.965928  5918093\n",
       "3  bag-cs-1-mean  18.351462  winequality  MAE: 1.061689  5918093\n",
       "4  bag-cs-2-mean   6.926683      abalone  MAE: 2.071502  5495977\n",
       "5  bag-cs-2-mean   8.620138  winequality  MAE: 1.764058  5495977\n",
       "6  bag-cs-3-mean   6.071250      abalone  MAE: 2.065129  5359837\n",
       "7  bag-cs-3-mean  10.691402  winequality  MAE: 1.734915  5359837\n",
       "8  bag-cs-4-mean   3.994031      abalone  MAE: 2.112377  5261201\n",
       "9  bag-cs-4-mean   9.862196  winequality  MAE: 1.952828  5261201"
      ]
     },
     "execution_count": 20,
     "metadata": {},
     "output_type": "execute_result"
    }
   ],
   "source": [
    "results"
   ]
  },
  {
   "cell_type": "code",
   "execution_count": null,
   "id": "b94fc431",
   "metadata": {},
   "outputs": [],
   "source": []
  }
 ],
 "metadata": {
  "kernelspec": {
   "display_name": "Python 3",
   "language": "python",
   "name": "python3"
  },
  "language_info": {
   "codemirror_mode": {
    "name": "ipython",
    "version": 3
   },
   "file_extension": ".py",
   "mimetype": "text/x-python",
   "name": "python",
   "nbconvert_exporter": "python",
   "pygments_lexer": "ipython3",
   "version": "3.13.2"
  }
 },
 "nbformat": 4,
 "nbformat_minor": 5
}
