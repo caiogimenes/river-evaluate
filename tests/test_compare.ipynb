{
 "cells": [
  {
   "cell_type": "code",
   "execution_count": 1,
   "id": "871299f0",
   "metadata": {},
   "outputs": [],
   "source": [
    "import river"
   ]
  },
  {
   "cell_type": "code",
   "execution_count": 2,
   "id": "3f1ba885",
   "metadata": {},
   "outputs": [],
   "source": [
    "from river.tree import HoeffdingTreeRegressorCS, HoeffdingTreeRegressor\n",
    "from river.ensemble import BaggingRegressor\n",
    "from river.feature_selection import SelectKBest"
   ]
  },
  {
   "cell_type": "code",
   "execution_count": 3,
   "id": "3f1ba885",
   "metadata": {},
   "outputs": [],
   "source": [
    "from ucimlrepo import fetch_ucirepo \n",
    "  \n",
    "# fetch dataset \n",
    "abalone = fetch_ucirepo(id=1)\n",
    "wine_quality = fetch_ucirepo(id=186) \n",
    "  \n",
    "# data (as pandas dataframes) \n",
    "X = [abalone.data.features, wine_quality.data.features] \n",
    "y = [abalone.data.targets, wine_quality.data.targets]\n"
   ]
  },
  {
   "cell_type": "code",
   "execution_count": 4,
   "id": "9b935455",
   "metadata": {},
   "outputs": [],
   "source": [
    "transformers = []\n",
    "for i in range(1,5):\n",
    "    transformers.append(SelectKBest(similarity=river.stats.PearsonCorr(), k=i))"
   ]
  },
  {
   "cell_type": "code",
   "execution_count": 5,
   "id": "26d3969a",
   "metadata": {},
   "outputs": [],
   "source": [
    "models = [\n",
    "    BaggingRegressor(\n",
    "        model=HoeffdingTreeRegressor(\n",
    "            leaf_prediction='mean'\n",
    "        )\n",
    "    )\n",
    "]\n",
    "\n",
    "for transformer in transformers:\n",
    "    models.append(\n",
    "        BaggingRegressor(\n",
    "            model=HoeffdingTreeRegressorCS(\n",
    "                transformer=transformer,\n",
    "                leaf_prediction='mean'\n",
    "            ) \n",
    "        )\n",
    "    )"
   ]
  },
  {
   "cell_type": "code",
   "execution_count": 6,
   "id": "f0572053",
   "metadata": {},
   "outputs": [],
   "source": [
    "models_map = {\n",
    "    0: 'bag-mean',\n",
    "    1: 'bag-cs-1-mean',\n",
    "    2: 'bag-cs-2-mean',\n",
    "    3: 'bag-cs-3-mean',\n",
    "    4: 'bag-cs-4-mean'\n",
    "}\n",
    "\n",
    "dataset_map = {\n",
    "    0: 'abalone',\n",
    "    1: 'winequality'\n",
    "}"
   ]
  },
  {
   "cell_type": "code",
   "execution_count": 7,
   "id": "fd6397eb",
   "metadata": {},
   "outputs": [],
   "source": [
    "from riverevaluate.eval import CompareModels"
   ]
  },
  {
   "cell_type": "code",
   "execution_count": 8,
   "id": "e0953dbc",
   "metadata": {},
   "outputs": [],
   "source": [
    "evaluate = CompareModels(\n",
    "    models=models,\n",
    "    features=X,\n",
    "    targets=y,\n",
    "    models_map = models_map,\n",
    "    dataset_map = dataset_map\n",
    ")"
   ]
  },
  {
   "cell_type": "code",
   "execution_count": 9,
   "id": "ffafd0fc",
   "metadata": {},
   "outputs": [],
   "source": [
    "results = evaluate.run_trainings()"
   ]
  },
  {
   "cell_type": "code",
   "execution_count": 11,
   "id": "a8ef95ac",
   "metadata": {},
   "outputs": [
    {
     "name": "stdout",
     "output_type": "stream",
     "text": [
      "TrainResult(runtime=2.97967267036438, eval_metric=MAE: 2.165876, dataset='abalone', model_name='bag-mean')\n",
      "TrainResult(runtime=3.6236448287963867, eval_metric=MAE: 1.950166, dataset='abalone', model_name='bag-cs-1-mean')\n",
      "TrainResult(runtime=3.3170621395111084, eval_metric=MAE: 2.034395, dataset='abalone', model_name='bag-cs-2-mean')\n",
      "TrainResult(runtime=3.4493298530578613, eval_metric=MAE: 2.114938, dataset='abalone', model_name='bag-cs-3-mean')\n",
      "TrainResult(runtime=3.6967246532440186, eval_metric=MAE: 2.115071, dataset='abalone', model_name='bag-cs-4-mean')\n",
      "TrainResult(runtime=7.09383225440979, eval_metric=MAE: 1.954125, dataset='winequality', model_name='bag-mean')\n",
      "TrainResult(runtime=14.226750135421753, eval_metric=MAE: 1.099815, dataset='winequality', model_name='bag-cs-1-mean')\n",
      "TrainResult(runtime=6.735987663269043, eval_metric=MAE: 1.90206, dataset='winequality', model_name='bag-cs-2-mean')\n",
      "TrainResult(runtime=6.767863988876343, eval_metric=MAE: 1.808886, dataset='winequality', model_name='bag-cs-3-mean')\n",
      "TrainResult(runtime=7.346759557723999, eval_metric=MAE: 1.819656, dataset='winequality', model_name='bag-cs-4-mean')\n"
     ]
    }
   ],
   "source": [
    "for dataset in dataset_map.values():\n",
    "    for model in models_map.values():\n",
    "        print(results[model][dataset])"
   ]
  }
 ],
 "metadata": {
  "kernelspec": {
   "display_name": "Python 3",
   "language": "python",
   "name": "python3"
  },
  "language_info": {
   "codemirror_mode": {
    "name": "ipython",
    "version": 3
   },
   "file_extension": ".py",
   "mimetype": "text/x-python",
   "name": "python",
   "nbconvert_exporter": "python",
   "pygments_lexer": "ipython3",
   "version": "3.13.2"
  }
 },
 "nbformat": 4,
 "nbformat_minor": 5
}
