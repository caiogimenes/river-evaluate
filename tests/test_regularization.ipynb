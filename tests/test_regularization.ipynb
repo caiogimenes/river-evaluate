{
 "cells": [
  {
   "cell_type": "code",
   "execution_count": 1,
   "id": "cbf34a81-5e38-4f87-a5b4-782d9e570a9e",
   "metadata": {},
   "outputs": [],
   "source": [
    "from river.tree import HoeffdingTreeRegressor, HoeffdingTreeRegressorCS\n",
    "from river.metrics import MAE\n",
    "from riverevaluate.eval import CompareModels\n",
    "import openml\n",
    "from river.ensemble import BaggingRegressor\n",
    "from river.feature_selection import SelectKBest\n",
    "from river import stats\n",
    "from river import compose"
   ]
  },
  {
   "cell_type": "code",
   "execution_count": 2,
   "id": "3860bb1c-bed4-47bd-85ea-c86f34f068d3",
   "metadata": {},
   "outputs": [],
   "source": [
    "# Get dataset by ID\n",
    "kin8nm = openml.datasets.get_dataset(189)\n",
    "kin8nm_data, _, _, _ = kin8nm.get_data(dataset_format=\"dataframe\")"
   ]
  },
  {
   "cell_type": "code",
   "execution_count": 3,
   "id": "bd2bb32a",
   "metadata": {},
   "outputs": [],
   "source": [
    "kin8nm_targets = kin8nm_data[['y']]\n",
    "kin8nm_features = kin8nm_data.drop('y', axis=1)"
   ]
  },
  {
   "cell_type": "code",
   "execution_count": 4,
   "id": "49493a69-c6dd-41e9-ba94-4c293f2805c4",
   "metadata": {},
   "outputs": [],
   "source": [
    "from ucimlrepo import fetch_ucirepo \n",
    "  \n",
    "# fetch dataset \n",
    "abalone = fetch_ucirepo(id=1)\n",
    "wine_quality = fetch_ucirepo(id=186)\n",
    "  \n",
    "# data (as pandas dataframes) \n",
    "X = [abalone.data.features, wine_quality.data.features, kin8nm_features] \n",
    "y = [abalone.data.targets, wine_quality.data.targets, kin8nm_targets]"
   ]
  },
  {
   "cell_type": "code",
   "execution_count": 5,
   "id": "3d213923",
   "metadata": {},
   "outputs": [],
   "source": [
    "transformers = []\n",
    "for i in range(1,5):\n",
    "    transformers.append(SelectKBest(similarity=stats.PearsonCorr(), k=i))"
   ]
  },
  {
   "cell_type": "code",
   "execution_count": null,
   "id": "135f82ad-b550-489e-9e67-3473387f735d",
   "metadata": {},
   "outputs": [],
   "source": [
    "models = [\n",
    "    HoeffdingTreeRegressor(),\n",
    "    HoeffdingTreeRegressor(regularize_factor=0.2),\n",
    "    HoeffdingTreeRegressor(regularize_factor=0.3),\n",
    "    HoeffdingTreeRegressor(regularize_factor=0.5),\n",
    "]"
   ]
  },
  {
   "cell_type": "code",
   "execution_count": 7,
   "id": "3440ceb6",
   "metadata": {},
   "outputs": [],
   "source": [
    "for transformer in transformers:\n",
    "    models.append(\n",
    "        BaggingRegressor(\n",
    "            model=HoeffdingTreeRegressorCS(\n",
    "                transformer=transformer,\n",
    "                leaf_prediction='mean'\n",
    "            ) \n",
    "        )\n",
    "    )"
   ]
  },
  {
   "cell_type": "code",
   "execution_count": 8,
   "id": "ed547055",
   "metadata": {},
   "outputs": [],
   "source": [
    "model_pipeline = compose.Pipeline(\n",
    "    ('k-best', SelectKBest(similarity=stats.PearsonCorr(), k=2)),\n",
    "    ('model', HoeffdingTreeRegressor(leaf_prediction='mean'))\n",
    ")\n",
    "\n",
    "models.append(model_pipeline)\n",
    "models.append(\n",
    "    HoeffdingTreeRegressorCS(\n",
    "        SelectKBest(similarity=stats.PearsonCorr(), k=2), \n",
    "        leaf_prediction='mean'\n",
    "    )\n",
    ")"
   ]
  },
  {
   "cell_type": "code",
   "execution_count": 9,
   "id": "40050eb9-c933-4c74-8f91-9eb298019b53",
   "metadata": {},
   "outputs": [],
   "source": [
    "models_map = {\n",
    "    0: 'vanilla',\n",
    "    1: 'regularized-0.2',\n",
    "    2: 'regularized-0.3',\n",
    "    3: 'regularized-0.5',\n",
    "    4: 'bag-cs-1-mean',\n",
    "    5: 'bag-cs-2-mean',\n",
    "    6: 'bag-cs-3-mean',\n",
    "    7: 'bag-cs-4-mean',\n",
    "    8: 'htr-pipe-cs-2-mean',\n",
    "    9: 'htr-cs-2-mean'\n",
    "}"
   ]
  },
  {
   "cell_type": "code",
   "execution_count": 10,
   "id": "0441f63b-036a-49a2-8fb5-08ffc2561d5d",
   "metadata": {},
   "outputs": [],
   "source": [
    "dataset_map = {\n",
    "    0: 'abalone',\n",
    "    1: 'winequality',\n",
    "    2: 'kin8nm',\n",
    "}"
   ]
  },
  {
   "cell_type": "code",
   "execution_count": 11,
   "id": "711060c5-5f75-47ee-8677-3e5c15e4dd98",
   "metadata": {},
   "outputs": [],
   "source": [
    "evaluate = CompareModels(\n",
    "    models=models,\n",
    "    features=X,\n",
    "    targets=y,\n",
    "    models_map = models_map,\n",
    "    dataset_map = dataset_map\n",
    ")"
   ]
  },
  {
   "cell_type": "code",
   "execution_count": 12,
   "id": "fddec674-35cc-4d81-bdb1-9ead4059cb0e",
   "metadata": {},
   "outputs": [],
   "source": [
    "results = evaluate.summary_results()"
   ]
  },
  {
   "cell_type": "code",
   "execution_count": 19,
   "id": "77b9b114",
   "metadata": {},
   "outputs": [
    {
     "data": {
      "text/html": [
       "<div>\n",
       "<style scoped>\n",
       "    .dataframe tbody tr th:only-of-type {\n",
       "        vertical-align: middle;\n",
       "    }\n",
       "\n",
       "    .dataframe tbody tr th {\n",
       "        vertical-align: top;\n",
       "    }\n",
       "\n",
       "    .dataframe thead th {\n",
       "        text-align: right;\n",
       "    }\n",
       "</style>\n",
       "<table border=\"1\" class=\"dataframe\">\n",
       "  <thead>\n",
       "    <tr style=\"text-align: right;\">\n",
       "      <th></th>\n",
       "      <th>model</th>\n",
       "      <th>runtime</th>\n",
       "      <th>dataset</th>\n",
       "      <th>error</th>\n",
       "      <th>memory</th>\n",
       "    </tr>\n",
       "  </thead>\n",
       "  <tbody>\n",
       "    <tr>\n",
       "      <th>24</th>\n",
       "      <td>htr-pipe-cs-2-mean</td>\n",
       "      <td>0.621123</td>\n",
       "      <td>abalone</td>\n",
       "      <td>2.173781</td>\n",
       "      <td>751805</td>\n",
       "    </tr>\n",
       "    <tr>\n",
       "      <th>27</th>\n",
       "      <td>htr-cs-2-mean</td>\n",
       "      <td>0.387224</td>\n",
       "      <td>abalone</td>\n",
       "      <td>2.141808</td>\n",
       "      <td>713110</td>\n",
       "    </tr>\n",
       "    <tr>\n",
       "      <th>26</th>\n",
       "      <td>htr-pipe-cs-2-mean</td>\n",
       "      <td>1.624314</td>\n",
       "      <td>kin8nm</td>\n",
       "      <td>4.369913</td>\n",
       "      <td>751805</td>\n",
       "    </tr>\n",
       "    <tr>\n",
       "      <th>29</th>\n",
       "      <td>htr-cs-2-mean</td>\n",
       "      <td>0.744003</td>\n",
       "      <td>kin8nm</td>\n",
       "      <td>4.263023</td>\n",
       "      <td>713110</td>\n",
       "    </tr>\n",
       "    <tr>\n",
       "      <th>25</th>\n",
       "      <td>htr-pipe-cs-2-mean</td>\n",
       "      <td>1.569617</td>\n",
       "      <td>winequality</td>\n",
       "      <td>1.961644</td>\n",
       "      <td>751805</td>\n",
       "    </tr>\n",
       "    <tr>\n",
       "      <th>28</th>\n",
       "      <td>htr-cs-2-mean</td>\n",
       "      <td>0.708191</td>\n",
       "      <td>winequality</td>\n",
       "      <td>2.017159</td>\n",
       "      <td>713110</td>\n",
       "    </tr>\n",
       "  </tbody>\n",
       "</table>\n",
       "</div>"
      ],
      "text/plain": [
       "                 model   runtime      dataset     error  memory\n",
       "24  htr-pipe-cs-2-mean  0.621123      abalone  2.173781  751805\n",
       "27       htr-cs-2-mean  0.387224      abalone  2.141808  713110\n",
       "26  htr-pipe-cs-2-mean  1.624314       kin8nm  4.369913  751805\n",
       "29       htr-cs-2-mean  0.744003       kin8nm  4.263023  713110\n",
       "25  htr-pipe-cs-2-mean  1.569617  winequality  1.961644  751805\n",
       "28       htr-cs-2-mean  0.708191  winequality  2.017159  713110"
      ]
     },
     "execution_count": 19,
     "metadata": {},
     "output_type": "execute_result"
    }
   ],
   "source": [
    "results[(results['model'] == 'htr-cs-2-mean') | (results['model'] == 'htr-pipe-cs-2-mean')].sort_values('dataset')"
   ]
  },
  {
   "cell_type": "code",
   "execution_count": 14,
   "id": "a53af5b5",
   "metadata": {},
   "outputs": [
    {
     "data": {
      "text/html": [
       "<div>\n",
       "<style scoped>\n",
       "    .dataframe tbody tr th:only-of-type {\n",
       "        vertical-align: middle;\n",
       "    }\n",
       "\n",
       "    .dataframe tbody tr th {\n",
       "        vertical-align: top;\n",
       "    }\n",
       "\n",
       "    .dataframe thead th {\n",
       "        text-align: right;\n",
       "    }\n",
       "</style>\n",
       "<table border=\"1\" class=\"dataframe\">\n",
       "  <thead>\n",
       "    <tr style=\"text-align: right;\">\n",
       "      <th></th>\n",
       "      <th>error</th>\n",
       "      <th>runtime</th>\n",
       "      <th>memory_usage</th>\n",
       "    </tr>\n",
       "    <tr>\n",
       "      <th>model</th>\n",
       "      <th></th>\n",
       "      <th></th>\n",
       "      <th></th>\n",
       "    </tr>\n",
       "  </thead>\n",
       "  <tbody>\n",
       "    <tr>\n",
       "      <th>bag-cs-1-mean</th>\n",
       "      <td>2.184650</td>\n",
       "      <td>16.043082</td>\n",
       "      <td>7292859.0</td>\n",
       "    </tr>\n",
       "    <tr>\n",
       "      <th>bag-cs-2-mean</th>\n",
       "      <td>2.598898</td>\n",
       "      <td>8.102845</td>\n",
       "      <td>6957575.0</td>\n",
       "    </tr>\n",
       "    <tr>\n",
       "      <th>bag-cs-3-mean</th>\n",
       "      <td>2.669526</td>\n",
       "      <td>7.932587</td>\n",
       "      <td>6813595.0</td>\n",
       "    </tr>\n",
       "    <tr>\n",
       "      <th>bag-cs-4-mean</th>\n",
       "      <td>2.830043</td>\n",
       "      <td>6.638103</td>\n",
       "      <td>6595491.0</td>\n",
       "    </tr>\n",
       "    <tr>\n",
       "      <th>htr-cs-2-mean</th>\n",
       "      <td>2.807330</td>\n",
       "      <td>0.613139</td>\n",
       "      <td>713110.0</td>\n",
       "    </tr>\n",
       "    <tr>\n",
       "      <th>htr-pipe-cs-2-mean</th>\n",
       "      <td>2.835113</td>\n",
       "      <td>1.271685</td>\n",
       "      <td>751805.0</td>\n",
       "    </tr>\n",
       "    <tr>\n",
       "      <th>regularized-0.2</th>\n",
       "      <td>1.179636</td>\n",
       "      <td>1.634213</td>\n",
       "      <td>747743.0</td>\n",
       "    </tr>\n",
       "    <tr>\n",
       "      <th>regularized-0.3</th>\n",
       "      <td>1.179636</td>\n",
       "      <td>1.819820</td>\n",
       "      <td>747743.0</td>\n",
       "    </tr>\n",
       "    <tr>\n",
       "      <th>regularized-0.5</th>\n",
       "      <td>1.225672</td>\n",
       "      <td>1.390521</td>\n",
       "      <td>737555.0</td>\n",
       "    </tr>\n",
       "    <tr>\n",
       "      <th>vanilla</th>\n",
       "      <td>1.549973</td>\n",
       "      <td>1.526580</td>\n",
       "      <td>715671.0</td>\n",
       "    </tr>\n",
       "  </tbody>\n",
       "</table>\n",
       "</div>"
      ],
      "text/plain": [
       "                       error    runtime  memory_usage\n",
       "model                                                \n",
       "bag-cs-1-mean       2.184650  16.043082     7292859.0\n",
       "bag-cs-2-mean       2.598898   8.102845     6957575.0\n",
       "bag-cs-3-mean       2.669526   7.932587     6813595.0\n",
       "bag-cs-4-mean       2.830043   6.638103     6595491.0\n",
       "htr-cs-2-mean       2.807330   0.613139      713110.0\n",
       "htr-pipe-cs-2-mean  2.835113   1.271685      751805.0\n",
       "regularized-0.2     1.179636   1.634213      747743.0\n",
       "regularized-0.3     1.179636   1.819820      747743.0\n",
       "regularized-0.5     1.225672   1.390521      737555.0\n",
       "vanilla             1.549973   1.526580      715671.0"
      ]
     },
     "execution_count": 14,
     "metadata": {},
     "output_type": "execute_result"
    }
   ],
   "source": [
    "results.groupby('model').agg(\n",
    "    error=('error', 'mean'),\n",
    "    runtime=('runtime', 'mean'),\n",
    "    memory_usage=('memory', 'mean')\n",
    ")"
   ]
  }
 ],
 "metadata": {
  "kernelspec": {
   "display_name": "Python 3",
   "language": "python",
   "name": "python3"
  },
  "language_info": {
   "codemirror_mode": {
    "name": "ipython",
    "version": 3
   },
   "file_extension": ".py",
   "mimetype": "text/x-python",
   "name": "python",
   "nbconvert_exporter": "python",
   "pygments_lexer": "ipython3",
   "version": "3.13.2"
  }
 },
 "nbformat": 4,
 "nbformat_minor": 5
}
